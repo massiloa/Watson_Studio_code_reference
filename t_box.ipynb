{
    "cells": [
        {
            "metadata": {},
            "cell_type": "code",
            "source": "# @hidden_cell\n# The project token is an authorization token that is used to access project resources like data sources, connections, and used by platform APIs.\nfrom project_lib import Project\nproject = Project(project_id='9046db90-cfdf-43f6-a674-1b0eb1f761b6', project_access_token='p-a2caa506ee09cf5e868182aedc417cade437e5ec')\npc = project.project_context\n",
            "execution_count": 90,
            "outputs": []
        },
        {
            "metadata": {
                "collapsed": true
            },
            "cell_type": "markdown",
            "source": "### testing box connection within watson studio and creating pandas dataframe from xls file uploaded in box\n\n1. no need to establish connection in watson studio, yet to post box app config file as asset in watson studio <br>\n2. Once the file is accessible, then a box client connection can be created from setting files <br>\n3. Once the connection is done, then .content() instruction is used to download the file <br>\n4. Lastly, read_excel() is used to write the pandas dataframe "
        },
        {
            "metadata": {},
            "cell_type": "code",
            "source": "import pandas as pd\nimport numpy as np\nimport os, sys\nfrom ibm_botocore.client import Config\nimport ibm_boto3\n\n!pip install \"boxsdk[jwt]\"\nfrom boxsdk import Client\nfrom boxsdk import JWTAuth\n",
            "execution_count": 91,
            "outputs": [
                {
                    "output_type": "stream",
                    "text": "/opt/conda/envs/Python-3.7-main/lib/python3.7/site-packages/secretstorage/dhcrypto.py:16: CryptographyDeprecationWarning: int_from_bytes is deprecated, use int.from_bytes instead\n  from cryptography.utils import int_from_bytes\n/opt/conda/envs/Python-3.7-main/lib/python3.7/site-packages/secretstorage/util.py:25: CryptographyDeprecationWarning: int_from_bytes is deprecated, use int.from_bytes instead\n  from cryptography.utils import int_from_bytes\nRequirement already satisfied: boxsdk[jwt] in /opt/conda/envs/Python-3.7-main/lib/python3.7/site-packages (2.12.1)\nRequirement already satisfied: requests-toolbelt<1.0.0,>=0.4.0 in /opt/conda/envs/Python-3.7-main/lib/python3.7/site-packages (from boxsdk[jwt]) (0.9.1)\nRequirement already satisfied: requests>=2.4.3 in /opt/conda/envs/Python-3.7-main/lib/python3.7/site-packages (from boxsdk[jwt]) (2.24.0)\nRequirement already satisfied: six>=1.9.0 in /opt/conda/envs/Python-3.7-main/lib/python3.7/site-packages (from boxsdk[jwt]) (1.15.0)\nRequirement already satisfied: attrs>=17.3.0 in /opt/conda/envs/Python-3.7-main/lib/python3.7/site-packages (from boxsdk[jwt]) (19.3.0)\nRequirement already satisfied: wrapt>=1.10.1 in /opt/conda/envs/Python-3.7-main/lib/python3.7/site-packages (from boxsdk[jwt]) (1.12.1)\nRequirement already satisfied: cryptography>=0.9.2; extra == \"jwt\" in /opt/conda/envs/Python-3.7-main/lib/python3.7/site-packages (from boxsdk[jwt]) (3.4.7)\nRequirement already satisfied: pyjwt>=1.3.0; extra == \"jwt\" in /opt/conda/envs/Python-3.7-main/lib/python3.7/site-packages (from boxsdk[jwt]) (1.7.1)\nRequirement already satisfied: urllib3!=1.25.0,!=1.25.1,<1.26,>=1.21.1 in /opt/conda/envs/Python-3.7-main/lib/python3.7/site-packages (from requests>=2.4.3->boxsdk[jwt]) (1.25.9)\nRequirement already satisfied: idna<3,>=2.5 in /opt/conda/envs/Python-3.7-main/lib/python3.7/site-packages (from requests>=2.4.3->boxsdk[jwt]) (2.9)\nRequirement already satisfied: certifi>=2017.4.17 in /opt/conda/envs/Python-3.7-main/lib/python3.7/site-packages (from requests>=2.4.3->boxsdk[jwt]) (2021.5.30)\nRequirement already satisfied: chardet<4,>=3.0.2 in /opt/conda/envs/Python-3.7-main/lib/python3.7/site-packages (from requests>=2.4.3->boxsdk[jwt]) (3.0.4)\nRequirement already satisfied: cffi>=1.12 in /opt/conda/envs/Python-3.7-main/lib/python3.7/site-packages (from cryptography>=0.9.2; extra == \"jwt\"->boxsdk[jwt]) (1.14.0)\nRequirement already satisfied: pycparser in /opt/conda/envs/Python-3.7-main/lib/python3.7/site-packages (from cffi>=1.12->cryptography>=0.9.2; extra == \"jwt\"->boxsdk[jwt]) (2.20)\n",
                    "name": "stdout"
                }
            ]
        },
        {
            "metadata": {},
            "cell_type": "code",
            "source": "credentials = {\n    'IAM_SERVICE_ID': 'iam-ServiceId-5c432b04-453d-486a-8d5b-8d2471bf03a9',\n    'IBM_API_KEY_ID': 'n2gP77CYLRJZgkn9eSIKt_e0HW8bnWO6ZXikyxIigWMS',\n    'ENDPOINT': 'https://s3.private.us.cloud-object-storage.appdomain.cloud',\n    'IBM_AUTH_ENDPOINT': 'https://iam.cloud.ibm.com/oidc/token',\n    'BUCKET': 'ibmeagitaly-donotdelete-pr-imp2elsawwkf1y',\n    'FILE': '455328_eru3t25n_config.json'\n}\n",
            "execution_count": 92,
            "outputs": []
        },
        {
            "metadata": {},
            "cell_type": "code",
            "source": "cos = ibm_boto3.client(service_name='s3',\nibm_api_key_id=credentials['IBM_API_KEY_ID'],\nibm_service_instance_id=credentials['IAM_SERVICE_ID'],\nibm_auth_endpoint=credentials['IBM_AUTH_ENDPOINT'],\nconfig=Config(signature_version='oauth'),\nendpoint_url=credentials['ENDPOINT'])",
            "execution_count": 93,
            "outputs": []
        },
        {
            "metadata": {},
            "cell_type": "code",
            "source": "from ibm_botocore.client import Config\nimport ibm_boto3\nimport types\n\ndef download_file_cos(credentials,local_file_name,key):  \n    cos = ibm_boto3.client(service_name='s3',\n    ibm_api_key_id=credentials['IBM_API_KEY_ID'],\n    ibm_service_instance_id=credentials['IAM_SERVICE_ID'],\n    ibm_auth_endpoint=credentials['IBM_AUTH_ENDPOINT'],\n    config=Config(signature_version='oauth'),\n    endpoint_url=credentials['ENDPOINT'])\n    try:\n        res=cos.download_file(Bucket=credentials['BUCKET'],Key=key,Filename=local_file_name)\n    except Exception as e:\n        print(Exception, e)\n    else:\n        print(\"File Downloaded\")",
            "execution_count": 94,
            "outputs": []
        },
        {
            "metadata": {},
            "cell_type": "code",
            "source": "!rm -rf /home/wsuser/work/*",
            "execution_count": 95,
            "outputs": []
        },
        {
            "metadata": {},
            "cell_type": "code",
            "source": "cos.download_file(Bucket=credentials['BUCKET'],Key='455328_eru3t25n_config.json',Filename='/home/wsuser/work/455328_eru3t25n_config.json')",
            "execution_count": 96,
            "outputs": []
        },
        {
            "metadata": {},
            "cell_type": "code",
            "source": "!pwd",
            "execution_count": 97,
            "outputs": [
                {
                    "output_type": "stream",
                    "text": "/home/wsuser/work\r\n",
                    "name": "stdout"
                }
            ]
        },
        {
            "metadata": {},
            "cell_type": "code",
            "source": "!ls /home/wsuser/work",
            "execution_count": 98,
            "outputs": [
                {
                    "output_type": "stream",
                    "text": "455328_eru3t25n_config.json\r\n",
                    "name": "stdout"
                }
            ]
        },
        {
            "metadata": {},
            "cell_type": "code",
            "source": "config = JWTAuth.from_settings_file('/home/wsuser/work/455328_eru3t25n_config.json')\nclient = Client(config)\n\n\nmyboxfile = client.file('817144087668').get()\nprint(myboxfile)\nfile_content = client.file('817144087668').content()",
            "execution_count": 99,
            "outputs": [
                {
                    "output_type": "stream",
                    "text": "<Box File - 817144087668 (contracts.xlsx)>\n",
                    "name": "stdout"
                }
            ]
        },
        {
            "metadata": {},
            "cell_type": "code",
            "source": "df=pd.read_excel(file_content)\ndf.shape",
            "execution_count": 100,
            "outputs": [
                {
                    "output_type": "execute_result",
                    "execution_count": 100,
                    "data": {
                        "text/plain": "(6, 11)"
                    },
                    "metadata": {}
                }
            ]
        },
        {
            "metadata": {},
            "cell_type": "code",
            "source": "df.head()",
            "execution_count": 101,
            "outputs": [
                {
                    "output_type": "execute_result",
                    "execution_count": 101,
                    "data": {
                        "text/plain": "                                 ID       Name  Sign date   Exp date Type  \\\n0  3ba62c3828fc4bd9b96227b9456f1868      UBICO 2020-12-31 2021-12-31  ESA   \n1  f419656cfa0143adaab7f3d914e702de    DeepLab 2020-12-31 2021-12-31  ESA   \n2  2c11b2867bf54260a02b9bb1bd06c191   Confirmo 2020-12-31 2021-12-31  CSA   \n3  3f5a91a139604c1595e2131b371771a4    PatchAI 2020-03-19 2021-03-18  ESA   \n4  b99e6af10e96426e979049dea44e0e7e  Fortunito 2020-09-20 2021-03-18  CSA   \n\n   Amount Contact in Ecosystem Distributor                         Notes  \\\n0    6662             Angelini         CGI     Possibile estensione 2021   \n1   10000             Angelini         CGI  Opportunit\u00e0 estensione a 25K   \n2   13130                Roman      Dublin        opportunit\u00e0 blockchain   \n3   24242               Parisi         CGI                           NaN   \n4    8000                  NaN         NaN                           NaN   \n\n     IMT Country  \n0  Italy   Italy  \n1  Italy   Italy  \n2  Italy   Italy  \n3  Italy   Italy  \n4  Italy   Italy  ",
                        "text/html": "<div>\n<style scoped>\n    .dataframe tbody tr th:only-of-type {\n        vertical-align: middle;\n    }\n\n    .dataframe tbody tr th {\n        vertical-align: top;\n    }\n\n    .dataframe thead th {\n        text-align: right;\n    }\n</style>\n<table border=\"1\" class=\"dataframe\">\n  <thead>\n    <tr style=\"text-align: right;\">\n      <th></th>\n      <th>ID</th>\n      <th>Name</th>\n      <th>Sign date</th>\n      <th>Exp date</th>\n      <th>Type</th>\n      <th>Amount</th>\n      <th>Contact in Ecosystem</th>\n      <th>Distributor</th>\n      <th>Notes</th>\n      <th>IMT</th>\n      <th>Country</th>\n    </tr>\n  </thead>\n  <tbody>\n    <tr>\n      <th>0</th>\n      <td>3ba62c3828fc4bd9b96227b9456f1868</td>\n      <td>UBICO</td>\n      <td>2020-12-31</td>\n      <td>2021-12-31</td>\n      <td>ESA</td>\n      <td>6662</td>\n      <td>Angelini</td>\n      <td>CGI</td>\n      <td>Possibile estensione 2021</td>\n      <td>Italy</td>\n      <td>Italy</td>\n    </tr>\n    <tr>\n      <th>1</th>\n      <td>f419656cfa0143adaab7f3d914e702de</td>\n      <td>DeepLab</td>\n      <td>2020-12-31</td>\n      <td>2021-12-31</td>\n      <td>ESA</td>\n      <td>10000</td>\n      <td>Angelini</td>\n      <td>CGI</td>\n      <td>Opportunit\u00e0 estensione a 25K</td>\n      <td>Italy</td>\n      <td>Italy</td>\n    </tr>\n    <tr>\n      <th>2</th>\n      <td>2c11b2867bf54260a02b9bb1bd06c191</td>\n      <td>Confirmo</td>\n      <td>2020-12-31</td>\n      <td>2021-12-31</td>\n      <td>CSA</td>\n      <td>13130</td>\n      <td>Roman</td>\n      <td>Dublin</td>\n      <td>opportunit\u00e0 blockchain</td>\n      <td>Italy</td>\n      <td>Italy</td>\n    </tr>\n    <tr>\n      <th>3</th>\n      <td>3f5a91a139604c1595e2131b371771a4</td>\n      <td>PatchAI</td>\n      <td>2020-03-19</td>\n      <td>2021-03-18</td>\n      <td>ESA</td>\n      <td>24242</td>\n      <td>Parisi</td>\n      <td>CGI</td>\n      <td>NaN</td>\n      <td>Italy</td>\n      <td>Italy</td>\n    </tr>\n    <tr>\n      <th>4</th>\n      <td>b99e6af10e96426e979049dea44e0e7e</td>\n      <td>Fortunito</td>\n      <td>2020-09-20</td>\n      <td>2021-03-18</td>\n      <td>CSA</td>\n      <td>8000</td>\n      <td>NaN</td>\n      <td>NaN</td>\n      <td>NaN</td>\n      <td>Italy</td>\n      <td>Italy</td>\n    </tr>\n  </tbody>\n</table>\n</div>"
                    },
                    "metadata": {}
                }
            ]
        },
        {
            "metadata": {},
            "cell_type": "code",
            "source": "print(type(df['Sign date'][1]))\n",
            "execution_count": 102,
            "outputs": [
                {
                    "output_type": "stream",
                    "text": "<class 'pandas._libs.tslibs.timestamps.Timestamp'>\n",
                    "name": "stdout"
                }
            ]
        },
        {
            "metadata": {},
            "cell_type": "markdown",
            "source": "### writing dataframe in excel and then posting it to box"
        },
        {
            "metadata": {},
            "cell_type": "code",
            "source": "\n\nfrom io import BytesIO\n\noutput = BytesIO()\nwriter=pd.ExcelWriter(output, engine='xlsxwriter')\ndf.to_excel(writer, index=False, sheet_name='sheet')\n\nworkbook = writer.book\nworksheet1=writer.sheets['sheet']\nheader_format = workbook.add_format ({ 'bold' : True, 'bg_color': '2EECE6', 'border':1})\nworksheet1.freeze_panes(1,0)\n\ndef get_col_widths(dataframe): \n    return [max([len(str(s)) for s in dataframe[col].values] + [len(col)]) for col in dataframe.columns]\n\nfor i, width in enumerate(get_col_widths(df)):\n    worksheet1.set_column(i, i, width)\n\nworkbook.close()\nwriter.save()\noutput.seek(0)\nassetname=\"test.xlsx\"\n\n\nproject.save_data(assetname, output, set_project_asset=True, overwrite=True)\n\n",
            "execution_count": 103,
            "outputs": [
                {
                    "output_type": "execute_result",
                    "execution_count": 103,
                    "data": {
                        "text/plain": "{'file_name': 'test.xlsx',\n 'message': 'File saved to project storage.',\n 'bucket_name': 'ibmeagitaly-donotdelete-pr-imp2elsawwkf1y',\n 'asset_id': 'f3a3fa46-139d-47f2-a3b0-e6dd392fed13'}"
                    },
                    "metadata": {}
                }
            ]
        },
        {
            "metadata": {},
            "cell_type": "code",
            "source": "\n# @hidden_cell\n# The following code contains the credentials for a file in your IBM Cloud Object Storage.\n# You might want to remove those credentials before you share your notebook.\ncredentials_1 = {\n    'IAM_SERVICE_ID': 'iam-ServiceId-5c432b04-453d-486a-8d5b-8d2471bf03a9',\n    'IBM_API_KEY_ID': 'n2gP77CYLRJZgkn9eSIKt_e0HW8bnWO6ZXikyxIigWMS',\n    'ENDPOINT': 'https://s3.private.us.cloud-object-storage.appdomain.cloud',\n    'IBM_AUTH_ENDPOINT': 'https://iam.cloud.ibm.com/oidc/token',\n    'BUCKET': 'ibmeagitaly-donotdelete-pr-imp2elsawwkf1y',\n    'FILE': 'test.xlsx'\n}\n",
            "execution_count": 104,
            "outputs": []
        },
        {
            "metadata": {},
            "cell_type": "code",
            "source": "\n\ncos = ibm_boto3.client(service_name='s3',\nibm_api_key_id=credentials_1['IBM_API_KEY_ID'],\nibm_service_instance_id=credentials_1['IAM_SERVICE_ID'],\nibm_auth_endpoint=credentials_1['IBM_AUTH_ENDPOINT'],\nconfig=Config(signature_version='oauth'),\nendpoint_url=credentials_1['ENDPOINT'])\n\n",
            "execution_count": 105,
            "outputs": []
        },
        {
            "metadata": {},
            "cell_type": "code",
            "source": "cos.download_file(Bucket=credentials_1['BUCKET'],Key='test.xlsx',Filename='/home/wsuser/work/test.xlsx')",
            "execution_count": 106,
            "outputs": []
        },
        {
            "metadata": {},
            "cell_type": "code",
            "source": "#FIRST TIME\n#folder_id=\"131084746758\"\n#new_file = client.folder(folder_id).upload('/home/wsuser/work/test.xlsx')\n#print('File \"{0}\" uploaded to Box with file ID {1}'.format(new_file.name, new_file.id))\n\n#SECONTIME TIME ON\nfile_id = '831822997599'\nfile_path = '/home/wsuser/work/test.xlsx'\n\nupdated_file = client.file(file_id).update_contents(file_path)\nprint('File \"{0}\" has been updated'.format(updated_file.name))",
            "execution_count": 107,
            "outputs": [
                {
                    "output_type": "stream",
                    "text": "File \"test.xlsx\" has been updated\n",
                    "name": "stdout"
                }
            ]
        },
        {
            "metadata": {},
            "cell_type": "code",
            "source": "",
            "execution_count": null,
            "outputs": []
        },
        {
            "metadata": {},
            "cell_type": "code",
            "source": "",
            "execution_count": null,
            "outputs": []
        },
        {
            "metadata": {},
            "cell_type": "code",
            "source": "",
            "execution_count": null,
            "outputs": []
        }
    ],
    "metadata": {
        "kernelspec": {
            "name": "python3",
            "display_name": "Python 3.7",
            "language": "python"
        },
        "language_info": {
            "name": "python",
            "version": "3.7.10",
            "mimetype": "text/x-python",
            "codemirror_mode": {
                "name": "ipython",
                "version": 3
            },
            "pygments_lexer": "ipython3",
            "nbconvert_exporter": "python",
            "file_extension": ".py"
        }
    },
    "nbformat": 4,
    "nbformat_minor": 1
}