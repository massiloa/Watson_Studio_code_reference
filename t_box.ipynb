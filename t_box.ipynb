{
    "cells": [
        {
            "metadata": {},
            "cell_type": "code",
            "source": "# @hidden_cell\n# The project token is an authorization token that is used to access project resources like data sources, connections, and used by platform APIs.\nfrom project_lib import Project\nproject = Project(project_id='.........................', project_access_token='...........................')\npc = project.project_context\n",
            "execution_count": 1,
            "outputs": []
        },
        {
            "metadata": {
                "collapsed": true
            },
            "cell_type": "markdown",
            "source": "### testing box connection within watson studio and creating pandas dataframe from xls file uploaded in box\n\n1. create a Create a custom app in Box https://www.ibm.com/docs/en/cloud-paks/cp-data/3.5.0?topic=catalogs-box-connection and generate the json file with config settings<br> \n2. no need to establish connection in watson studio, yet to post box app config file as asset in watson studio <br>\n3. Once the file is accessible, then a box client connection can be created from setting files <br>\n4. Once the connection is done, then .content() instruction is used to download the file <br>\n5. Lastly, read_excel() is used to write the pandas dataframe "
        },
        {
            "metadata": {},
            "cell_type": "code",
            "source": "import pandas as pd\nimport numpy as np\nimport os, sys\nfrom ibm_botocore.client import Config\nimport ibm_boto3\n\n!pip install \"boxsdk[jwt]\"\nfrom boxsdk import Client\nfrom boxsdk import JWTAuth\n",
            "execution_count": 2,
            "outputs": [
                {
                    "output_type": "stream",
                    "text": "/opt/conda/envs/Python-3.7-OpenCE/lib/python3.7/site-packages/secretstorage/dhcrypto.py:16: CryptographyDeprecationWarning: int_from_bytes is deprecated, use int.from_bytes instead\n  from cryptography.utils import int_from_bytes\n/opt/conda/envs/Python-3.7-OpenCE/lib/python3.7/site-packages/secretstorage/util.py:25: CryptographyDeprecationWarning: int_from_bytes is deprecated, use int.from_bytes instead\n  from cryptography.utils import int_from_bytes\nCollecting boxsdk[jwt]\n  Downloading boxsdk-2.12.1-py2.py3-none-any.whl (130 kB)\n\u001b[K     |\u2588\u2588\u2588\u2588\u2588\u2588\u2588\u2588\u2588\u2588\u2588\u2588\u2588\u2588\u2588\u2588\u2588\u2588\u2588\u2588\u2588\u2588\u2588\u2588\u2588\u2588\u2588\u2588\u2588\u2588\u2588\u2588| 130 kB 14.2 MB/s eta 0:00:01\n\u001b[?25hRequirement already satisfied: six>=1.9.0 in /opt/conda/envs/Python-3.7-OpenCE/lib/python3.7/site-packages (from boxsdk[jwt]) (1.15.0)\nRequirement already satisfied: attrs>=17.3.0 in /opt/conda/envs/Python-3.7-OpenCE/lib/python3.7/site-packages (from boxsdk[jwt]) (19.3.0)\nRequirement already satisfied: wrapt>=1.10.1 in /opt/conda/envs/Python-3.7-OpenCE/lib/python3.7/site-packages (from boxsdk[jwt]) (1.12.1)\nCollecting requests-toolbelt<1.0.0,>=0.4.0\n  Downloading requests_toolbelt-0.9.1-py2.py3-none-any.whl (54 kB)\n\u001b[K     |\u2588\u2588\u2588\u2588\u2588\u2588\u2588\u2588\u2588\u2588\u2588\u2588\u2588\u2588\u2588\u2588\u2588\u2588\u2588\u2588\u2588\u2588\u2588\u2588\u2588\u2588\u2588\u2588\u2588\u2588\u2588\u2588| 54 kB 4.9 MB/s  eta 0:00:01\n\u001b[?25hRequirement already satisfied: requests>=2.4.3 in /opt/conda/envs/Python-3.7-OpenCE/lib/python3.7/site-packages (from boxsdk[jwt]) (2.22.0)\nRequirement already satisfied: pyjwt>=1.3.0; extra == \"jwt\" in /opt/conda/envs/Python-3.7-OpenCE/lib/python3.7/site-packages (from boxsdk[jwt]) (2.0.1)\nRequirement already satisfied: cryptography>=0.9.2; extra == \"jwt\" in /opt/conda/envs/Python-3.7-OpenCE/lib/python3.7/site-packages (from boxsdk[jwt]) (3.4.7)\nRequirement already satisfied: idna<2.9,>=2.5 in /opt/conda/envs/Python-3.7-OpenCE/lib/python3.7/site-packages (from requests>=2.4.3->boxsdk[jwt]) (2.8)\nRequirement already satisfied: urllib3!=1.25.0,!=1.25.1,<1.26,>=1.21.1 in /opt/conda/envs/Python-3.7-OpenCE/lib/python3.7/site-packages (from requests>=2.4.3->boxsdk[jwt]) (1.25.9)\nRequirement already satisfied: certifi>=2017.4.17 in /opt/conda/envs/Python-3.7-OpenCE/lib/python3.7/site-packages (from requests>=2.4.3->boxsdk[jwt]) (2021.5.30)\nRequirement already satisfied: chardet<3.1.0,>=3.0.2 in /opt/conda/envs/Python-3.7-OpenCE/lib/python3.7/site-packages (from requests>=2.4.3->boxsdk[jwt]) (3.0.4)\nRequirement already satisfied: cffi>=1.12 in /opt/conda/envs/Python-3.7-OpenCE/lib/python3.7/site-packages (from cryptography>=0.9.2; extra == \"jwt\"->boxsdk[jwt]) (1.14.0)\nRequirement already satisfied: pycparser in /opt/conda/envs/Python-3.7-OpenCE/lib/python3.7/site-packages (from cffi>=1.12->cryptography>=0.9.2; extra == \"jwt\"->boxsdk[jwt]) (2.20)\nInstalling collected packages: requests-toolbelt, boxsdk\nSuccessfully installed boxsdk-2.12.1 requests-toolbelt-0.9.1\n",
                    "name": "stdout"
                }
            ]
        },
        {
            "metadata": {},
            "cell_type": "code",
            "source": "# REFERENCE HERE credentials of the json file created as per point 1. above\n\ncredentials = {\n    'IAM_SERVICE_ID': '..........',\n    'IBM_API_KEY_ID': '..........',\n    'ENDPOINT': '.......',\n    'IBM_AUTH_ENDPOINT': '.........',\n    'BUCKET': '............',\n    'FILE': '455328_eru3t25n_config.json'\n}\n",
            "execution_count": 3,
            "outputs": []
        },
        {
            "metadata": {},
            "cell_type": "code",
            "source": "cos = ibm_boto3.client(service_name='s3',\nibm_api_key_id=credentials['IBM_API_KEY_ID'],\nibm_service_instance_id=credentials['IAM_SERVICE_ID'],\nibm_auth_endpoint=credentials['IBM_AUTH_ENDPOINT'],\nconfig=Config(signature_version='oauth'),\nendpoint_url=credentials['ENDPOINT'])",
            "execution_count": 4,
            "outputs": []
        },
        {
            "metadata": {},
            "cell_type": "code",
            "source": "from ibm_botocore.client import Config\nimport ibm_boto3\nimport types\n\ndef download_file_cos(credentials,local_file_name,key):  \n    cos = ibm_boto3.client(service_name='s3',\n    ibm_api_key_id=credentials['IBM_API_KEY_ID'],\n    ibm_service_instance_id=credentials['IAM_SERVICE_ID'],\n    ibm_auth_endpoint=credentials['IBM_AUTH_ENDPOINT'],\n    config=Config(signature_version='oauth'),\n    endpoint_url=credentials['ENDPOINT'])\n    try:\n        res=cos.download_file(Bucket=credentials['BUCKET'],Key=key,Filename=local_file_name)\n    except Exception as e:\n        print(Exception, e)\n    else:\n        print(\"File Downloaded\")",
            "execution_count": 5,
            "outputs": []
        },
        {
            "metadata": {},
            "cell_type": "code",
            "source": "!rm -rf /home/wsuser/work/*",
            "execution_count": 6,
            "outputs": []
        },
        {
            "metadata": {},
            "cell_type": "code",
            "source": "cos.download_file(Bucket=credentials['BUCKET'],Key='455328_eru3t25n_config.json',Filename='/home/wsuser/work/455328_eru3t25n_config.json')",
            "execution_count": 7,
            "outputs": []
        },
        {
            "metadata": {},
            "cell_type": "code",
            "source": "!pwd",
            "execution_count": 8,
            "outputs": [
                {
                    "output_type": "stream",
                    "text": "/home/wsuser/work\r\n",
                    "name": "stdout"
                }
            ]
        },
        {
            "metadata": {},
            "cell_type": "code",
            "source": "!ls /home/wsuser/work",
            "execution_count": 9,
            "outputs": [
                {
                    "output_type": "stream",
                    "text": "455328_eru3t25n_config.json\r\n",
                    "name": "stdout"
                }
            ]
        },
        {
            "metadata": {},
            "cell_type": "code",
            "source": "config = JWTAuth.from_settings_file('/home/wsuser/work/455328_eru3t25n_config.json')\nclient = Client(config)\n\n\nmyboxfile = client.file('817144087668').get()\nprint(myboxfile)\nfile_content = client.file('817144087668').content()",
            "execution_count": 10,
            "outputs": [
                {
                    "output_type": "stream",
                    "text": "<Box File - 817144087668 (contracts.xlsx)>\n",
                    "name": "stdout"
                }
            ]
        },
        {
            "metadata": {},
            "cell_type": "code",
            "source": "df=pd.read_excel(file_content)\ndf.shape",
            "execution_count": 11,
            "outputs": [
                {
                    "output_type": "execute_result",
                    "execution_count": 11,
                    "data": {
                        "text/plain": "(6, 11)"
                    },
                    "metadata": {}
                }
            ]
        },
        {
            "metadata": {},
            "cell_type": "markdown",
            "source": "### writing dataframe in excel and then posting it to box"
        },
        {
            "metadata": {},
            "cell_type": "code",
            "source": "\n\nfrom io import BytesIO\n\noutput = BytesIO()\nwriter=pd.ExcelWriter(output, engine='xlsxwriter')\ndf.to_excel(writer, index=False, sheet_name='sheet')\n\nworkbook = writer.book\nworksheet1=writer.sheets['sheet']\nheader_format = workbook.add_format ({ 'bold' : True, 'bg_color': '2EECE6', 'border':1})\nworksheet1.freeze_panes(1,0)\n\ndef get_col_widths(dataframe): \n    return [max([len(str(s)) for s in dataframe[col].values] + [len(col)]) for col in dataframe.columns]\n\nfor i, width in enumerate(get_col_widths(df)):\n    worksheet1.set_column(i, i, width)\n\nworkbook.close()\nwriter.save()\noutput.seek(0)\nassetname=\"test.xlsx\"\n\n\nproject.save_data(assetname, output, set_project_asset=True, overwrite=True)\n\n",
            "execution_count": 12,
            "outputs": [
                {
                    "output_type": "execute_result",
                    "execution_count": 12,
                    "data": {
                        "text/plain": "{'file_name': 'test.xlsx',\n 'message': 'File saved to project storage.',\n 'bucket_name': 'ibmeagitaly-donotdelete-pr-imp2elsawwkf1y',\n 'asset_id': 'f3a3fa46-139d-47f2-a3b0-e6dd392fed13'}"
                    },
                    "metadata": {}
                }
            ]
        },
        {
            "metadata": {},
            "cell_type": "code",
            "source": "\n# @hidden_cell\n# The following code contains the credentials for a file in your IBM Cloud Object Storage.\n\n# REFERENCE HERE credentials of the file created as per previous instruction\n\ncredentials_1 = {\n    'IAM_SERVICE_ID': '..........',\n    'IBM_API_KEY_ID': '..........',\n    'ENDPOINT': '.......',\n    'IBM_AUTH_ENDPOINT': '.........',\n    'BUCKET': '............',\n    'FILE': 'test.xlsx'\n\n",
            "execution_count": 13,
            "outputs": []
        },
        {
            "metadata": {},
            "cell_type": "code",
            "source": "\n\ncos = ibm_boto3.client(service_name='s3',\nibm_api_key_id=credentials_1['IBM_API_KEY_ID'],\nibm_service_instance_id=credentials_1['IAM_SERVICE_ID'],\nibm_auth_endpoint=credentials_1['IBM_AUTH_ENDPOINT'],\nconfig=Config(signature_version='oauth'),\nendpoint_url=credentials_1['ENDPOINT'])\n\n",
            "execution_count": 14,
            "outputs": []
        },
        {
            "metadata": {},
            "cell_type": "code",
            "source": "cos.download_file(Bucket=credentials_1['BUCKET'],Key='test.xlsx',Filename='/home/wsuser/work/test.xlsx')",
            "execution_count": 15,
            "outputs": []
        },
        {
            "metadata": {},
            "cell_type": "code",
            "source": "#FIRST TIME\n#folder_id=\"131084746758\"\n#new_file = client.folder(folder_id).upload('/home/wsuser/work/test.xlsx')\n#print('File \"{0}\" uploaded to Box with file ID {1}'.format(new_file.name, new_file.id))\n\n#SECONTIME TIME ON\nfile_id = '831822997599'\nfile_path = '/home/wsuser/work/test.xlsx'\n\nupdated_file = client.file(file_id).update_contents(file_path)\nprint('File \"{0}\" has been updated'.format(updated_file.name))",
            "execution_count": 16,
            "outputs": [
                {
                    "output_type": "stream",
                    "text": "File \"test.xlsx\" has been updated\n",
                    "name": "stdout"
                }
            ]
        },
        {
            "metadata": {},
            "cell_type": "code",
            "source": "",
            "execution_count": null,
            "outputs": []
        },
        {
            "metadata": {},
            "cell_type": "code",
            "source": "",
            "execution_count": null,
            "outputs": []
        },
        {
            "metadata": {},
            "cell_type": "code",
            "source": "",
            "execution_count": null,
            "outputs": []
        }
    ],
    "metadata": {
        "kernelspec": {
            "name": "python3",
            "display_name": "Python 3.7",
            "language": "python"
        },
        "language_info": {
            "name": "python",
            "version": "3.7.10",
            "mimetype": "text/x-python",
            "codemirror_mode": {
                "name": "ipython",
                "version": 3
            },
            "pygments_lexer": "ipython3",
            "nbconvert_exporter": "python",
            "file_extension": ".py"
        }
    },
    "nbformat": 4,
    "nbformat_minor": 1
}